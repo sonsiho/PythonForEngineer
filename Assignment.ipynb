{
  "metadata": {
    "kernelspec": {
      "language": "python",
      "display_name": "Python 3",
      "name": "python3"
    },
    "language_info": {
      "pygments_lexer": "ipython3",
      "nbconvert_exporter": "python",
      "version": "3.6.4",
      "file_extension": ".py",
      "codemirror_mode": {
        "name": "ipython",
        "version": 3
      },
      "name": "python",
      "mimetype": "text/x-python"
    },
    "colab": {
      "provenance": [],
      "include_colab_link": true
    }
  },
  "nbformat_minor": 0,
  "nbformat": 4,
  "cells": [
    {
      "cell_type": "markdown",
      "metadata": {
        "id": "view-in-github",
        "colab_type": "text"
      },
      "source": [
        "<a href=\"https://colab.research.google.com/github/sonsiho/PythonForEngineer/blob/main/Assignment.ipynb\" target=\"_parent\"><img src=\"https://colab.research.google.com/assets/colab-badge.svg\" alt=\"Open In Colab\"/></a>"
      ]
    },
    {
      "cell_type": "code",
      "source": [
        "# This Python 3 environment comes with many helpful analytics libraries installed\n",
        "# It is defined by the kaggle/python Docker image: https://github.com/kaggle/docker-python\n",
        "# For example, here's several helpful packages to load\n",
        "\n",
        "import numpy as np # linear algebra\n",
        "import pandas as pd # data processing, CSV file I/O (e.g. pd.read_csv)\n",
        "\n",
        "# Input data files are available in the read-only \"../input/\" directory\n",
        "# For example, running this (by clicking run or pressing Shift+Enter) will list all files under the input directory\n",
        "\n",
        "import os\n",
        "for dirname, _, filenames in os.walk('/kaggle/input'):\n",
        "    for filename in filenames:\n",
        "        print(os.path.join(dirname, filename))\n",
        "\n",
        "# You can write up to 20GB to the current directory (/kaggle/working/) that gets preserved as output when you create a version using \"Save & Run All\" \n",
        "# You can also write temporary files to /kaggle/temp/, but they won't be saved outside of the current session"
      ],
      "metadata": {
        "_uuid": "8f2839f25d086af736a60e9eeb907d3b93b6e0e5",
        "_cell_guid": "b1076dfc-b9ad-4769-8c92-a6c4dae69d19",
        "execution": {
          "iopub.status.busy": "2022-08-13T08:26:02.245404Z",
          "iopub.execute_input": "2022-08-13T08:26:02.245872Z",
          "iopub.status.idle": "2022-08-13T08:26:02.25511Z",
          "shell.execute_reply.started": "2022-08-13T08:26:02.245823Z",
          "shell.execute_reply": "2022-08-13T08:26:02.253828Z"
        },
        "trusted": true,
        "id": "XiTXwbrd4SXT"
      },
      "execution_count": null,
      "outputs": []
    },
    {
      "cell_type": "code",
      "source": [
        "import pandas as pd\n",
        "import matplotlib.pyplot as plt\n",
        "import seaborn as sns"
      ],
      "metadata": {
        "execution": {
          "iopub.status.busy": "2022-08-13T08:26:02.256508Z",
          "iopub.execute_input": "2022-08-13T08:26:02.256982Z",
          "iopub.status.idle": "2022-08-13T08:26:02.265269Z",
          "shell.execute_reply.started": "2022-08-13T08:26:02.256932Z",
          "shell.execute_reply": "2022-08-13T08:26:02.263861Z"
        },
        "trusted": true,
        "id": "xAkHlY9J4SXU"
      },
      "execution_count": null,
      "outputs": []
    },
    {
      "cell_type": "code",
      "source": [
        "df=pd.read_csv('../input/sales-forecasting/train.csv')"
      ],
      "metadata": {
        "execution": {
          "iopub.status.busy": "2022-08-13T08:26:02.267199Z",
          "iopub.execute_input": "2022-08-13T08:26:02.268891Z",
          "iopub.status.idle": "2022-08-13T08:26:02.325572Z",
          "shell.execute_reply.started": "2022-08-13T08:26:02.268841Z",
          "shell.execute_reply": "2022-08-13T08:26:02.324548Z"
        },
        "trusted": true,
        "id": "JKxVwaYx4SXV"
      },
      "execution_count": null,
      "outputs": []
    },
    {
      "cell_type": "code",
      "source": [
        "df.head()"
      ],
      "metadata": {
        "execution": {
          "iopub.status.busy": "2022-08-13T08:26:02.327348Z",
          "iopub.execute_input": "2022-08-13T08:26:02.328141Z",
          "iopub.status.idle": "2022-08-13T08:26:02.35321Z",
          "shell.execute_reply.started": "2022-08-13T08:26:02.32809Z",
          "shell.execute_reply": "2022-08-13T08:26:02.351982Z"
        },
        "trusted": true,
        "id": "DVJCYhiT4SXV"
      },
      "execution_count": null,
      "outputs": []
    },
    {
      "cell_type": "code",
      "source": [
        "df.tail()"
      ],
      "metadata": {
        "execution": {
          "iopub.status.busy": "2022-08-13T08:26:02.354341Z",
          "iopub.execute_input": "2022-08-13T08:26:02.354682Z",
          "iopub.status.idle": "2022-08-13T08:26:02.380514Z",
          "shell.execute_reply.started": "2022-08-13T08:26:02.354651Z",
          "shell.execute_reply": "2022-08-13T08:26:02.379144Z"
        },
        "trusted": true,
        "id": "s_3vNL8d4SXV"
      },
      "execution_count": null,
      "outputs": []
    },
    {
      "cell_type": "code",
      "source": [
        "df.sample(10)"
      ],
      "metadata": {
        "execution": {
          "iopub.status.busy": "2022-08-13T08:26:02.382177Z",
          "iopub.execute_input": "2022-08-13T08:26:02.382718Z",
          "iopub.status.idle": "2022-08-13T08:26:02.416297Z",
          "shell.execute_reply.started": "2022-08-13T08:26:02.382669Z",
          "shell.execute_reply": "2022-08-13T08:26:02.415036Z"
        },
        "trusted": true,
        "id": "0ULZAi_E4SXV"
      },
      "execution_count": null,
      "outputs": []
    },
    {
      "cell_type": "code",
      "source": [
        "df.info()"
      ],
      "metadata": {
        "execution": {
          "iopub.status.busy": "2022-08-13T08:26:02.417806Z",
          "iopub.execute_input": "2022-08-13T08:26:02.418319Z",
          "iopub.status.idle": "2022-08-13T08:26:02.442527Z",
          "shell.execute_reply.started": "2022-08-13T08:26:02.418281Z",
          "shell.execute_reply": "2022-08-13T08:26:02.441355Z"
        },
        "trusted": true,
        "id": "ALvTnz8q4SXV"
      },
      "execution_count": null,
      "outputs": []
    },
    {
      "cell_type": "code",
      "source": [
        "df.shape"
      ],
      "metadata": {
        "execution": {
          "iopub.status.busy": "2022-08-13T08:26:02.443962Z",
          "iopub.execute_input": "2022-08-13T08:26:02.444307Z",
          "iopub.status.idle": "2022-08-13T08:26:02.452524Z",
          "shell.execute_reply.started": "2022-08-13T08:26:02.444276Z",
          "shell.execute_reply": "2022-08-13T08:26:02.450992Z"
        },
        "trusted": true,
        "id": "72GWoLcp4SXV"
      },
      "execution_count": null,
      "outputs": []
    },
    {
      "cell_type": "code",
      "source": [
        "df[df.duplicated()]"
      ],
      "metadata": {
        "execution": {
          "iopub.status.busy": "2022-08-13T08:26:02.454693Z",
          "iopub.execute_input": "2022-08-13T08:26:02.455634Z",
          "iopub.status.idle": "2022-08-13T08:26:02.489483Z",
          "shell.execute_reply.started": "2022-08-13T08:26:02.455584Z",
          "shell.execute_reply": "2022-08-13T08:26:02.488616Z"
        },
        "trusted": true,
        "id": "mdEGGyho4SXW"
      },
      "execution_count": null,
      "outputs": []
    },
    {
      "cell_type": "code",
      "source": [
        "df.drop_duplicates()"
      ],
      "metadata": {
        "execution": {
          "iopub.status.busy": "2022-08-13T08:26:02.491082Z",
          "iopub.execute_input": "2022-08-13T08:26:02.491423Z",
          "iopub.status.idle": "2022-08-13T08:26:02.542297Z",
          "shell.execute_reply.started": "2022-08-13T08:26:02.491392Z",
          "shell.execute_reply": "2022-08-13T08:26:02.540973Z"
        },
        "trusted": true,
        "id": "53DPA-P54SXW"
      },
      "execution_count": null,
      "outputs": []
    },
    {
      "cell_type": "code",
      "source": [
        "df.isnull().sum()"
      ],
      "metadata": {
        "execution": {
          "iopub.status.busy": "2022-08-13T08:26:02.543979Z",
          "iopub.execute_input": "2022-08-13T08:26:02.544298Z",
          "iopub.status.idle": "2022-08-13T08:26:02.559134Z",
          "shell.execute_reply.started": "2022-08-13T08:26:02.544269Z",
          "shell.execute_reply": "2022-08-13T08:26:02.558098Z"
        },
        "trusted": true,
        "id": "AhXoGY8q4SXW"
      },
      "execution_count": null,
      "outputs": []
    },
    {
      "cell_type": "code",
      "source": [
        "df[df['Postal Code'].isnull()]"
      ],
      "metadata": {
        "execution": {
          "iopub.status.busy": "2022-08-13T08:26:02.560616Z",
          "iopub.execute_input": "2022-08-13T08:26:02.561081Z",
          "iopub.status.idle": "2022-08-13T08:26:02.587873Z",
          "shell.execute_reply.started": "2022-08-13T08:26:02.561047Z",
          "shell.execute_reply": "2022-08-13T08:26:02.586721Z"
        },
        "trusted": true,
        "id": "8dZ2vy6s4SXW"
      },
      "execution_count": null,
      "outputs": []
    },
    {
      "cell_type": "code",
      "source": [
        "df['Postal Code'] = df['Postal Code'].fillna('L7L 0A1')"
      ],
      "metadata": {
        "execution": {
          "iopub.status.busy": "2022-08-13T08:26:02.589488Z",
          "iopub.execute_input": "2022-08-13T08:26:02.589833Z",
          "iopub.status.idle": "2022-08-13T08:26:02.596909Z",
          "shell.execute_reply.started": "2022-08-13T08:26:02.589802Z",
          "shell.execute_reply": "2022-08-13T08:26:02.595825Z"
        },
        "trusted": true,
        "id": "a6w7p_b14SXW"
      },
      "execution_count": null,
      "outputs": []
    },
    {
      "cell_type": "code",
      "source": [
        "df.isnull().sum()"
      ],
      "metadata": {
        "execution": {
          "iopub.status.busy": "2022-08-13T08:26:02.598209Z",
          "iopub.execute_input": "2022-08-13T08:26:02.598536Z",
          "iopub.status.idle": "2022-08-13T08:26:02.618639Z",
          "shell.execute_reply.started": "2022-08-13T08:26:02.598507Z",
          "shell.execute_reply": "2022-08-13T08:26:02.617793Z"
        },
        "trusted": true,
        "id": "FxkZkJ8l4SXW"
      },
      "execution_count": null,
      "outputs": []
    },
    {
      "cell_type": "code",
      "source": [
        "df['Order Date'] = pd.to_datetime(df['Order Date'],format='%d/%m/%Y')\n",
        "df['Ship Date'] = pd.to_datetime(df['Ship Date'],format='%d/%m/%Y')"
      ],
      "metadata": {
        "execution": {
          "iopub.status.busy": "2022-08-13T08:26:02.620119Z",
          "iopub.execute_input": "2022-08-13T08:26:02.620448Z",
          "iopub.status.idle": "2022-08-13T08:26:02.641225Z",
          "shell.execute_reply.started": "2022-08-13T08:26:02.620418Z",
          "shell.execute_reply": "2022-08-13T08:26:02.640263Z"
        },
        "trusted": true,
        "id": "wNuwB4SH4SXW"
      },
      "execution_count": null,
      "outputs": []
    },
    {
      "cell_type": "code",
      "source": [
        "df.sort_values(by=['Order Date'],inplace=True)"
      ],
      "metadata": {
        "execution": {
          "iopub.status.busy": "2022-08-13T08:26:02.646502Z",
          "iopub.execute_input": "2022-08-13T08:26:02.647462Z",
          "iopub.status.idle": "2022-08-13T08:26:02.658801Z",
          "shell.execute_reply.started": "2022-08-13T08:26:02.64742Z",
          "shell.execute_reply": "2022-08-13T08:26:02.65772Z"
        },
        "trusted": true,
        "id": "UAHZ1DS34SXW"
      },
      "execution_count": null,
      "outputs": []
    },
    {
      "cell_type": "code",
      "source": [
        "df['Ship Date'].value_counts()"
      ],
      "metadata": {
        "execution": {
          "iopub.status.busy": "2022-08-13T08:26:02.660021Z",
          "iopub.execute_input": "2022-08-13T08:26:02.660971Z",
          "iopub.status.idle": "2022-08-13T08:26:02.670819Z",
          "shell.execute_reply.started": "2022-08-13T08:26:02.660936Z",
          "shell.execute_reply": "2022-08-13T08:26:02.669986Z"
        },
        "trusted": true,
        "id": "I4kat1lo4SXX"
      },
      "execution_count": null,
      "outputs": []
    },
    {
      "cell_type": "code",
      "source": [
        "plt.figure(figsize=(20,15))\n",
        "df['Ship Mode'].value_counts().plot.pie()"
      ],
      "metadata": {
        "execution": {
          "iopub.status.busy": "2022-08-13T08:26:02.672758Z",
          "iopub.execute_input": "2022-08-13T08:26:02.673168Z",
          "iopub.status.idle": "2022-08-13T08:26:02.895527Z",
          "shell.execute_reply.started": "2022-08-13T08:26:02.673135Z",
          "shell.execute_reply": "2022-08-13T08:26:02.894326Z"
        },
        "trusted": true,
        "id": "n9jD9fPc4SXX"
      },
      "execution_count": null,
      "outputs": []
    },
    {
      "cell_type": "code",
      "source": [
        "df['Country'].value_counts()"
      ],
      "metadata": {
        "execution": {
          "iopub.status.busy": "2022-08-13T08:26:02.896792Z",
          "iopub.execute_input": "2022-08-13T08:26:02.897133Z",
          "iopub.status.idle": "2022-08-13T08:26:02.906793Z",
          "shell.execute_reply.started": "2022-08-13T08:26:02.897103Z",
          "shell.execute_reply": "2022-08-13T08:26:02.905589Z"
        },
        "trusted": true,
        "id": "9BElodoH4SXX"
      },
      "execution_count": null,
      "outputs": []
    },
    {
      "cell_type": "code",
      "source": [
        "df['City'].value_counts()"
      ],
      "metadata": {
        "execution": {
          "iopub.status.busy": "2022-08-13T08:26:02.908877Z",
          "iopub.execute_input": "2022-08-13T08:26:02.90969Z",
          "iopub.status.idle": "2022-08-13T08:26:02.926989Z",
          "shell.execute_reply.started": "2022-08-13T08:26:02.909642Z",
          "shell.execute_reply": "2022-08-13T08:26:02.926127Z"
        },
        "trusted": true,
        "id": "VFdt3p804SXX"
      },
      "execution_count": null,
      "outputs": []
    },
    {
      "cell_type": "code",
      "source": [
        "plt.figure(figsize=(20,15))\n",
        "df['City'].value_counts().plot.pie()"
      ],
      "metadata": {
        "execution": {
          "iopub.status.busy": "2022-08-13T08:26:02.928126Z",
          "iopub.execute_input": "2022-08-13T08:26:02.929117Z",
          "iopub.status.idle": "2022-08-13T08:26:07.925505Z",
          "shell.execute_reply.started": "2022-08-13T08:26:02.929072Z",
          "shell.execute_reply": "2022-08-13T08:26:07.924285Z"
        },
        "trusted": true,
        "id": "-BPqnKFo4SXX"
      },
      "execution_count": null,
      "outputs": []
    },
    {
      "cell_type": "code",
      "source": [
        "plt.figure(figsize=(20,15))\n",
        "plt.xticks(rotation='vertical')\n",
        "sns.countplot('State',data=df)"
      ],
      "metadata": {
        "execution": {
          "iopub.status.busy": "2022-08-13T08:26:07.926911Z",
          "iopub.execute_input": "2022-08-13T08:26:07.927616Z",
          "iopub.status.idle": "2022-08-13T08:26:08.626715Z",
          "shell.execute_reply.started": "2022-08-13T08:26:07.927569Z",
          "shell.execute_reply": "2022-08-13T08:26:08.625246Z"
        },
        "trusted": true,
        "id": "Dxm0oLAo4SXX"
      },
      "execution_count": null,
      "outputs": []
    },
    {
      "cell_type": "code",
      "source": [
        "top_states=df.groupby(['State']).sum().sort_values('State',ascending=False).head(10)\n",
        "top_states=top_states[['Sales']].round(2)\n",
        "top_states.reset_index(inplace=True)"
      ],
      "metadata": {
        "execution": {
          "iopub.status.busy": "2022-08-13T08:26:08.628228Z",
          "iopub.execute_input": "2022-08-13T08:26:08.628593Z",
          "iopub.status.idle": "2022-08-13T08:26:08.648029Z",
          "shell.execute_reply.started": "2022-08-13T08:26:08.62856Z",
          "shell.execute_reply": "2022-08-13T08:26:08.646831Z"
        },
        "trusted": true,
        "id": "-BTDZRa-4SXX"
      },
      "execution_count": null,
      "outputs": []
    },
    {
      "cell_type": "code",
      "source": [
        "top_states"
      ],
      "metadata": {
        "execution": {
          "iopub.status.busy": "2022-08-13T08:26:08.649406Z",
          "iopub.execute_input": "2022-08-13T08:26:08.649753Z",
          "iopub.status.idle": "2022-08-13T08:26:08.664105Z",
          "shell.execute_reply.started": "2022-08-13T08:26:08.649723Z",
          "shell.execute_reply": "2022-08-13T08:26:08.662502Z"
        },
        "trusted": true,
        "id": "ZAANv5hu4SXY"
      },
      "execution_count": null,
      "outputs": []
    },
    {
      "cell_type": "code",
      "source": [
        "plt.figure(figsize=(20,15))\n",
        "plt.bar(top_states['State'],top_states['Sales'],color='#6a0dad',edgecolor='orange')\n",
        "plt.xticks(rotation='vertical')\n",
        "plt.title('States with highest revenu',fontsize=15)\n",
        "plt.xlabel('States',fontsize=12)\n",
        "plt.ylabel('Revenu',fontsize=12)"
      ],
      "metadata": {
        "execution": {
          "iopub.status.busy": "2022-08-13T08:26:08.665742Z",
          "iopub.execute_input": "2022-08-13T08:26:08.666282Z",
          "iopub.status.idle": "2022-08-13T08:26:08.990889Z",
          "shell.execute_reply.started": "2022-08-13T08:26:08.666234Z",
          "shell.execute_reply": "2022-08-13T08:26:08.989622Z"
        },
        "trusted": true,
        "id": "D96E7wY34SXY"
      },
      "execution_count": null,
      "outputs": []
    },
    {
      "cell_type": "code",
      "source": [
        "top_cities=df.groupby(['City']).sum().sort_values('Sales',ascending=False).head(10)\n",
        "top_cities=top_cities[['Sales']].round(2)\n",
        "top_cities.reset_index(inplace=True)\n",
        "top_cities"
      ],
      "metadata": {
        "execution": {
          "iopub.status.busy": "2022-08-13T08:26:08.992629Z",
          "iopub.execute_input": "2022-08-13T08:26:08.993032Z",
          "iopub.status.idle": "2022-08-13T08:26:09.01873Z",
          "shell.execute_reply.started": "2022-08-13T08:26:08.992996Z",
          "shell.execute_reply": "2022-08-13T08:26:09.017595Z"
        },
        "trusted": true,
        "id": "4QVMgh_04SXY"
      },
      "execution_count": null,
      "outputs": []
    },
    {
      "cell_type": "code",
      "source": [
        "plt.figure(figsize=(20,15))\n",
        "plt.bar(top_cities['City'],top_cities['Sales'],color='#95dee3',edgecolor='purple')\n",
        "plt.xticks(rotation='vertical')\n",
        "plt.title('Cities with highest revenu',fontsize=15)\n",
        "plt.xlabel('Cities',fontsize=12)\n",
        "plt.ylabel('Revenu',fontsize=12)"
      ],
      "metadata": {
        "execution": {
          "iopub.status.busy": "2022-08-13T08:26:09.021176Z",
          "iopub.execute_input": "2022-08-13T08:26:09.021707Z",
          "iopub.status.idle": "2022-08-13T08:26:09.33287Z",
          "shell.execute_reply.started": "2022-08-13T08:26:09.021659Z",
          "shell.execute_reply": "2022-08-13T08:26:09.33193Z"
        },
        "trusted": true,
        "id": "b2vtjaYR4SXY"
      },
      "execution_count": null,
      "outputs": []
    },
    {
      "cell_type": "code",
      "source": [
        "top_customers=df.groupby(['Customer Name']).sum().sort_values('Sales',ascending=False).head(10)\n",
        "top_customers=top_customers[['Sales']].round(2)\n",
        "top_customers.reset_index(inplace=True)\n",
        "top_customers"
      ],
      "metadata": {
        "execution": {
          "iopub.status.busy": "2022-08-13T08:26:09.334578Z",
          "iopub.execute_input": "2022-08-13T08:26:09.33535Z",
          "iopub.status.idle": "2022-08-13T08:26:09.359661Z",
          "shell.execute_reply.started": "2022-08-13T08:26:09.335301Z",
          "shell.execute_reply": "2022-08-13T08:26:09.358453Z"
        },
        "trusted": true,
        "id": "ltBRd9i24SXY"
      },
      "execution_count": null,
      "outputs": []
    },
    {
      "cell_type": "code",
      "source": [
        "plt.figure(figsize=(20,15))\n",
        "plt.bar(top_customers['Customer Name'],top_customers['Sales'],color='#8b0000',edgecolor='yellow')\n",
        "plt.xticks(rotation='vertical')\n",
        "plt.title('Customers with highest revenu',fontsize=15)\n",
        "plt.xlabel('Customers',fontsize=12)\n",
        "plt.ylabel('Revenu',fontsize=12)"
      ],
      "metadata": {
        "execution": {
          "iopub.status.busy": "2022-08-13T08:26:09.360985Z",
          "iopub.execute_input": "2022-08-13T08:26:09.362038Z",
          "iopub.status.idle": "2022-08-13T08:26:09.679855Z",
          "shell.execute_reply.started": "2022-08-13T08:26:09.361999Z",
          "shell.execute_reply": "2022-08-13T08:26:09.678681Z"
        },
        "trusted": true,
        "id": "SXfotkxH4SXY"
      },
      "execution_count": null,
      "outputs": []
    },
    {
      "cell_type": "code",
      "source": [
        "top_products=df.groupby(['Product Name']).sum().sort_values('Sales',ascending=False).head(5)\n",
        "top_products=top_products[['Sales']].round(2)\n",
        "top_products.reset_index(inplace=True)\n",
        "top_products"
      ],
      "metadata": {
        "execution": {
          "iopub.status.busy": "2022-08-13T08:26:09.681399Z",
          "iopub.execute_input": "2022-08-13T08:26:09.68244Z",
          "iopub.status.idle": "2022-08-13T08:26:09.708394Z",
          "shell.execute_reply.started": "2022-08-13T08:26:09.682386Z",
          "shell.execute_reply": "2022-08-13T08:26:09.707468Z"
        },
        "trusted": true,
        "id": "4C8PO_sL4SXY"
      },
      "execution_count": null,
      "outputs": []
    },
    {
      "cell_type": "code",
      "source": [
        "plt.figure(figsize=(20,15))\n",
        "plt.bar(top_products['Product Name'],top_products['Sales'],color='#080b45',edgecolor='green')\n",
        "plt.xticks(rotation='vertical')\n",
        "plt.title('Products with highest sales',fontsize=15)\n",
        "plt.xlabel('Products',fontsize=12)\n",
        "plt.ylabel('Revenu',fontsize=12)"
      ],
      "metadata": {
        "execution": {
          "iopub.status.busy": "2022-08-13T08:26:09.709545Z",
          "iopub.execute_input": "2022-08-13T08:26:09.710385Z",
          "iopub.status.idle": "2022-08-13T08:26:10.0521Z",
          "shell.execute_reply.started": "2022-08-13T08:26:09.710346Z",
          "shell.execute_reply": "2022-08-13T08:26:10.05086Z"
        },
        "trusted": true,
        "id": "SCZJRyBe4SXZ"
      },
      "execution_count": null,
      "outputs": []
    },
    {
      "cell_type": "code",
      "source": [
        "df['day'] = df['Order Date'].dt.day\n",
        "df['month'] = df['Order Date'].dt.month\n",
        "df['year'] = df['Order Date'].dt.year"
      ],
      "metadata": {
        "execution": {
          "iopub.status.busy": "2022-08-13T08:26:19.730049Z",
          "iopub.execute_input": "2022-08-13T08:26:19.730486Z",
          "iopub.status.idle": "2022-08-13T08:26:19.742134Z",
          "shell.execute_reply.started": "2022-08-13T08:26:19.730449Z",
          "shell.execute_reply": "2022-08-13T08:26:19.740751Z"
        },
        "trusted": true,
        "id": "D7cdDh6U4SXZ"
      },
      "execution_count": null,
      "outputs": []
    },
    {
      "cell_type": "code",
      "source": [
        "df.head()"
      ],
      "metadata": {
        "execution": {
          "iopub.status.busy": "2022-08-13T08:26:51.555915Z",
          "iopub.execute_input": "2022-08-13T08:26:51.556341Z",
          "iopub.status.idle": "2022-08-13T08:26:51.584811Z",
          "shell.execute_reply.started": "2022-08-13T08:26:51.556308Z",
          "shell.execute_reply": "2022-08-13T08:26:51.583864Z"
        },
        "trusted": true,
        "id": "AmVMdRRl4SXZ"
      },
      "execution_count": null,
      "outputs": []
    },
    {
      "cell_type": "code",
      "source": [
        "plt.figure(figsize=(20,15))\n",
        "df['year'].value_counts().plot.pie()"
      ],
      "metadata": {
        "execution": {
          "iopub.status.busy": "2022-08-13T08:28:46.958269Z",
          "iopub.execute_input": "2022-08-13T08:28:46.958696Z",
          "iopub.status.idle": "2022-08-13T08:28:47.17851Z",
          "shell.execute_reply.started": "2022-08-13T08:28:46.958662Z",
          "shell.execute_reply": "2022-08-13T08:28:47.177083Z"
        },
        "trusted": true,
        "id": "FQa_dYYT4SXZ"
      },
      "execution_count": null,
      "outputs": []
    },
    {
      "cell_type": "code",
      "source": [
        "year_sales = df.groupby(['year']).sum().sort_values('Sales',ascending=False).head(5)\n",
        "year_sales.reset_index(inplace=True)\n",
        "year_sales"
      ],
      "metadata": {
        "execution": {
          "iopub.status.busy": "2022-08-13T08:33:22.040047Z",
          "iopub.execute_input": "2022-08-13T08:33:22.040484Z",
          "iopub.status.idle": "2022-08-13T08:33:22.063055Z",
          "shell.execute_reply.started": "2022-08-13T08:33:22.04045Z",
          "shell.execute_reply": "2022-08-13T08:33:22.061841Z"
        },
        "trusted": true,
        "id": "9D4eUiWY4SXZ"
      },
      "execution_count": null,
      "outputs": []
    },
    {
      "cell_type": "code",
      "source": [
        "sales_2018 = df[df['year']==2018]\n",
        "sales_2018.head()"
      ],
      "metadata": {
        "execution": {
          "iopub.status.busy": "2022-08-13T08:39:37.416595Z",
          "iopub.execute_input": "2022-08-13T08:39:37.41707Z",
          "iopub.status.idle": "2022-08-13T08:39:37.453914Z",
          "shell.execute_reply.started": "2022-08-13T08:39:37.41703Z",
          "shell.execute_reply": "2022-08-13T08:39:37.452356Z"
        },
        "trusted": true,
        "id": "DUiImAUj4SXZ"
      },
      "execution_count": null,
      "outputs": []
    },
    {
      "cell_type": "code",
      "source": [
        "sales = df.groupby(['month']).sum().sort_values('Sales',ascending=False).head(5)\n",
        "sales.reset_index(inplace=True)\n",
        "sales"
      ],
      "metadata": {
        "execution": {
          "iopub.status.busy": "2022-08-13T08:43:12.651882Z",
          "iopub.execute_input": "2022-08-13T08:43:12.65269Z",
          "iopub.status.idle": "2022-08-13T08:43:12.675853Z",
          "shell.execute_reply.started": "2022-08-13T08:43:12.652601Z",
          "shell.execute_reply": "2022-08-13T08:43:12.674612Z"
        },
        "trusted": true,
        "id": "qNjU6Tcn4SXZ"
      },
      "execution_count": null,
      "outputs": []
    },
    {
      "cell_type": "markdown",
      "source": [
        "### ****insights****"
      ],
      "metadata": {
        "id": "_P_2vlC84SXa"
      }
    },
    {
      "cell_type": "markdown",
      "source": [
        "# ---------------------------------"
      ],
      "metadata": {
        "id": "fl8LodQm4SXa"
      }
    },
    {
      "cell_type": "markdown",
      "source": [
        "- **most of the people don't care about fast shipping**\n",
        "- **most of my sales < %50 are comming from only 10 states**\n",
        "- **most of my sales are comming from 5 cities in 5 states**\n",
        "- **we have a winner product : Canon imageCLASS 2200 Advanced Copier**"
      ],
      "metadata": {
        "id": "cJKNnZMQ4SXa"
      }
    }
  ]
}